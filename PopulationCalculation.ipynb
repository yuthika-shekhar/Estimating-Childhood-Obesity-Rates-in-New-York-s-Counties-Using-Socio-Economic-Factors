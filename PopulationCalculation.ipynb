{
 "cells": [
  {
   "cell_type": "code",
   "execution_count": null,
   "id": "f610607d",
   "metadata": {},
   "outputs": [],
   "source": [
    "import numpy as np\n",
    "import pandas as pd"
   ]
  },
  {
   "cell_type": "code",
   "execution_count": null,
   "id": "ac7c0191",
   "metadata": {},
   "outputs": [],
   "source": [
    "data = pd.read_csv('Census_2010_and_2020_Population__Region__Counties__Cities__Towns__Villages.csv')\n",
    "data.head()"
   ]
  },
  {
   "cell_type": "code",
   "execution_count": null,
   "id": "e4f0a13a",
   "metadata": {},
   "outputs": [],
   "source": [
    "data = data[data['Area Type']=='County']"
   ]
  },
  {
   "cell_type": "code",
   "execution_count": null,
   "id": "44d51019",
   "metadata": {},
   "outputs": [],
   "source": [
    "data['Area Name'] = data['Area Name'].str.replace(' County','')"
   ]
  },
  {
   "cell_type": "markdown",
   "id": "4b127956",
   "metadata": {},
   "source": [
    "## Apply CAGR to get population for years between 2010 and 2020"
   ]
  },
  {
   "cell_type": "code",
   "execution_count": null,
   "id": "f32f9518",
   "metadata": {},
   "outputs": [],
   "source": [
    "data['cagr'] = (((1+data['2020 Census Population'])/data['2010 Census Population'])**(1/10) - 1)"
   ]
  },
  {
   "cell_type": "code",
   "execution_count": null,
   "id": "ea3be2af",
   "metadata": {},
   "outputs": [],
   "source": [
    "data['Year']=2010"
   ]
  },
  {
   "cell_type": "code",
   "execution_count": null,
   "id": "1ec2dffb",
   "metadata": {},
   "outputs": [],
   "source": [
    "data_2010 = data[['Year','Area Name','2010 Census Population','cagr']].copy()\n",
    "data_2010.rename(columns={'Area Name':'County', '2010 Census Population':'Population'}, inplace=True)\n",
    "data_2010.head()"
   ]
  },
  {
   "cell_type": "code",
   "execution_count": null,
   "id": "e6338b2a",
   "metadata": {},
   "outputs": [],
   "source": [
    "data_2011 = data_2010.copy()\n",
    "data_2011['Year']=2011\n",
    "data_2011['Population'] = (data_2011['Population']*(1+data_2011['cagr'])).astype(int)\n",
    "data_2011.head()"
   ]
  },
  {
   "cell_type": "code",
   "execution_count": null,
   "id": "e6b9ea70",
   "metadata": {},
   "outputs": [],
   "source": [
    "data_2012 = data_2011.copy()\n",
    "data_2012['Year']=2012\n",
    "data_2012['Population'] = (data_2012['Population']*(1+data_2012['cagr'])).astype(int)\n",
    "data_2012.head()"
   ]
  },
  {
   "cell_type": "code",
   "execution_count": null,
   "id": "cccf9fc5",
   "metadata": {},
   "outputs": [],
   "source": [
    "data_2013 = data_2012.copy()\n",
    "data_2013['Year']=2013\n",
    "data_2013['Population'] = (data_2013['Population']*(1+data_2013['cagr'])).astype(int)\n",
    "data_2013.head()"
   ]
  },
  {
   "cell_type": "code",
   "execution_count": null,
   "id": "68cf96d8",
   "metadata": {},
   "outputs": [],
   "source": [
    "data_2014 = data_2013.copy()\n",
    "data_2014['Year']=2014\n",
    "data_2014['Population'] = (data_2014['Population']*(1+data_2014['cagr'])).astype(int)\n",
    "data_2014.head()"
   ]
  },
  {
   "cell_type": "code",
   "execution_count": null,
   "id": "cc8fefc7",
   "metadata": {},
   "outputs": [],
   "source": [
    "data_2015 = data_2014.copy()\n",
    "data_2015['Year']=2015\n",
    "data_2015['Population'] = (data_2015['Population']*(1+data_2015['cagr'])).astype(int)\n",
    "data_2015.head()"
   ]
  },
  {
   "cell_type": "code",
   "execution_count": null,
   "id": "7a3edab9",
   "metadata": {},
   "outputs": [],
   "source": [
    "data_2016 = data_2015.copy()\n",
    "data_2016['Year']=2016\n",
    "data_2016['Population'] = (data_2016['Population']*(1+data_2016['cagr'])).astype(int)\n",
    "data_2016.head()"
   ]
  },
  {
   "cell_type": "code",
   "execution_count": null,
   "id": "50ce596f",
   "metadata": {},
   "outputs": [],
   "source": [
    "data_2017 = data_2016.copy()\n",
    "data_2017['Year']=2017\n",
    "data_2017['Population'] = (data_2017['Population']*(1+data_2017['cagr'])).astype(int)\n",
    "data_2017.head()"
   ]
  },
  {
   "cell_type": "code",
   "execution_count": null,
   "id": "fd2b0ce1",
   "metadata": {},
   "outputs": [],
   "source": [
    "data_2018 = data_2017.copy()\n",
    "data_2018['Year']=2018\n",
    "data_2018['Population'] = (data_2018['Population']*(1+data_2018['cagr'])).astype(int)\n",
    "data_2018.head()"
   ]
  },
  {
   "cell_type": "code",
   "execution_count": null,
   "id": "9b47cf56",
   "metadata": {},
   "outputs": [],
   "source": [
    "data_2019 = data_2018.copy()\n",
    "data_2019['Year']=2019\n",
    "data_2019['Population'] = (data_2019['Population']*(1+data_2019['cagr'])).astype(int)\n",
    "data_2019.head()"
   ]
  },
  {
   "cell_type": "code",
   "execution_count": null,
   "id": "b7ee6204",
   "metadata": {},
   "outputs": [],
   "source": [
    "data_2020 = data_2019.copy()\n",
    "data_2020['Year']=2020\n",
    "data_2020['Population'] = (data_2020['Population']*(1+data_2020['cagr'])).astype(int)\n",
    "data_2020.head()"
   ]
  },
  {
   "cell_type": "code",
   "execution_count": null,
   "id": "d749e5bf",
   "metadata": {},
   "outputs": [],
   "source": [
    "temp = pd.concat([data_2010,data_2011,data_2012,data_2013,data_2014,data_2015,data_2016,data_2017,data_2018,data_2019])\n",
    "temp['County'] = temp['County'].str.upper()\n",
    "temp.drop('cagr',axis=1).to_csv('Clean_Population.csv',index=False)"
   ]
  },
  {
   "cell_type": "code",
   "execution_count": null,
   "id": "9599fa0b",
   "metadata": {},
   "outputs": [],
   "source": []
  }
 ],
 "metadata": {
  "kernelspec": {
   "display_name": "Python 3 (ipykernel)",
   "language": "python",
   "name": "python3"
  },
  "language_info": {
   "codemirror_mode": {
    "name": "ipython",
    "version": 3
   },
   "file_extension": ".py",
   "mimetype": "text/x-python",
   "name": "python",
   "nbconvert_exporter": "python",
   "pygments_lexer": "ipython3",
   "version": "3.9.7"
  }
 },
 "nbformat": 4,
 "nbformat_minor": 5
}
