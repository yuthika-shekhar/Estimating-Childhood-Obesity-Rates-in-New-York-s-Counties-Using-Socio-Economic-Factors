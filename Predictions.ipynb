{
 "cells": [
  {
   "cell_type": "code",
   "execution_count": null,
   "id": "9d59ad54",
   "metadata": {},
   "outputs": [],
   "source": [
    "import numpy as np\n",
    "import pandas as pd\n",
    "import matplotlib.pyplot as plt\n",
    "import xgboost\n",
    "\n",
    "from sklearn.model_selection import train_test_split\n",
    "from sklearn.preprocessing import OneHotEncoder\n",
    "from sklearn.tree import DecisionTreeRegressor\n",
    "from sklearn.ensemble import RandomForestRegressor, ExtraTreesRegressor\n",
    "from sklearn.linear_model import ElasticNet\n",
    "from sklearn.metrics import mean_squared_error,mean_absolute_percentage_error\n",
    "\n",
    "from sklearn.preprocessing import MinMaxScaler"
   ]
  },
  {
   "cell_type": "markdown",
   "id": "355fcf8a",
   "metadata": {},
   "source": [
    "## Load data"
   ]
  },
  {
   "cell_type": "code",
   "execution_count": null,
   "id": "a1fa1066",
   "metadata": {},
   "outputs": [],
   "source": [
    "main = pd.read_csv('Clean_Main.csv')\n",
    "domviol = pd.read_csv('Clean_DomesticViolence.csv')\n",
    "subabu = pd.read_csv('Clean_SubstanceAbuse.csv')\n",
    "unemp = pd.read_csv('Clean_Unemployment_Data.csv')\n",
    "foodins = pd.read_csv('extrapolated_food_insecure.csv')\n",
    "pop = pd.read_csv('Clean_Population.csv')"
   ]
  },
  {
   "cell_type": "code",
   "execution_count": null,
   "id": "3f1ebcda",
   "metadata": {},
   "outputs": [],
   "source": [
    "regionmap = pd.read_csv('Region_County_mapping.csv')"
   ]
  },
  {
   "cell_type": "code",
   "execution_count": null,
   "id": "605cba7c",
   "metadata": {},
   "outputs": [],
   "source": [
    "main['County'] = main['County'].str.lower()\n",
    "domviol['County'] = domviol['County'].str.lower()\n",
    "subabu['County'] = subabu['County'].str.lower()\n",
    "unemp['County'] = unemp['County'].str.lower()\n",
    "foodins['County'] = foodins['County'].str.lower()\n",
    "pop['County'] = pop['County'].str.lower()\n",
    "\n",
    "domviol['DomesticViolence'] = domviol['DomesticViolence'].str.replace(',','').astype(float)"
   ]
  },
  {
   "cell_type": "code",
   "execution_count": null,
   "id": "04c4ad4e",
   "metadata": {},
   "outputs": [],
   "source": [
    "main.shape"
   ]
  },
  {
   "cell_type": "markdown",
   "id": "c7dd3b6d",
   "metadata": {},
   "source": [
    "## Merge"
   ]
  },
  {
   "cell_type": "code",
   "execution_count": null,
   "id": "d3466196",
   "metadata": {},
   "outputs": [],
   "source": [
    "merged = pd.merge(main,domviol,on=['County','Year'], how='left')"
   ]
  },
  {
   "cell_type": "code",
   "execution_count": null,
   "id": "fda97ae1",
   "metadata": {},
   "outputs": [],
   "source": [
    "merged = pd.merge(merged,subabu,on=['County','Year'], how='left')"
   ]
  },
  {
   "cell_type": "code",
   "execution_count": null,
   "id": "5e325596",
   "metadata": {},
   "outputs": [],
   "source": [
    "merged = pd.merge(merged,unemp,on=['County','Year'])"
   ]
  },
  {
   "cell_type": "code",
   "execution_count": null,
   "id": "2dc383f5",
   "metadata": {},
   "outputs": [],
   "source": [
    "merged = pd.merge(merged,foodins,on=['County','Year'])"
   ]
  },
  {
   "cell_type": "code",
   "execution_count": null,
   "id": "9948f199",
   "metadata": {},
   "outputs": [],
   "source": [
    "merged = pd.merge(merged,pop,on=['County','Year'])"
   ]
  },
  {
   "cell_type": "code",
   "execution_count": null,
   "id": "db52d492",
   "metadata": {},
   "outputs": [],
   "source": [
    "merged.drop(['Area Name','Region','Percent Overweight','Percent Obese','Percent Healthy Weight'],axis=1,inplace=True)"
   ]
  },
  {
   "cell_type": "code",
   "execution_count": null,
   "id": "c84a539c",
   "metadata": {},
   "outputs": [],
   "source": [
    "merged = merged[~merged['Percent Overweight or Obese'].isna()]"
   ]
  },
  {
   "cell_type": "code",
   "execution_count": null,
   "id": "d2fce87d",
   "metadata": {
    "scrolled": true
   },
   "outputs": [],
   "source": [
    "merged.head()"
   ]
  },
  {
   "cell_type": "markdown",
   "id": "0a37f1dc",
   "metadata": {},
   "source": [
    "## Normalize"
   ]
  },
  {
   "cell_type": "code",
   "execution_count": null,
   "id": "bac4e9b6",
   "metadata": {},
   "outputs": [],
   "source": [
    "merged['DomesticViolence'] = merged['DomesticViolence'].fillna(0) / merged['Population_y']\n",
    "merged['Admissions'] = merged['Admissions'] / merged['Population_y']\n",
    "merged['# Uninsured'] = merged['# Uninsured'] / merged['Population_y']\n",
    "merged['# Uninsured.1'] = merged['# Uninsured.1'] / merged['Population_y']\n",
    "\n",
    "merged.drop(['Population_y','Population_x'],axis=1, inplace=True)\n",
    "merged.rename(columns={\n",
    "    'Percent Overweight or Obese':'OverweightObeseRate',\n",
    "    'DomesticViolence':'DomesticViolenceRate',\n",
    "    'Admissions':'SubstanceAbuseAdmissions',\n",
    "    '% Food Insecure':'FoodInsecurity',\n",
    "},inplace=True)"
   ]
  },
  {
   "cell_type": "code",
   "execution_count": null,
   "id": "d98bd34c",
   "metadata": {},
   "outputs": [],
   "source": [
    "merged['SubstanceAbuseAdmissions'].fillna(0,inplace=True)"
   ]
  },
  {
   "cell_type": "code",
   "execution_count": null,
   "id": "ff342f00",
   "metadata": {},
   "outputs": [],
   "source": [
    "lat = {\n",
    "    'albany':42.6526,\n",
    "    'allegany':42.3130,\n",
    "    'broome':42.0987,\n",
    "    'cattaraugus':42.2318,\n",
    "    'cayuga':42.7655,\n",
    "    'chautauqua':42.2313,\n",
    "    'chemung':42.1362,\n",
    "    'chenango':42.4972,\n",
    "    'clinton':44.7904,\n",
    "    'columbia':42.3679,\n",
    "    'cortland':42.5441,\n",
    "    'delaware':42.2452,\n",
    "    'dutchess':41.7784,\n",
    "    'erie':42.9024,\n",
    "    'essex':44.0107,\n",
    "    'franklin':44.5926,\n",
    "    'fulton':43.1119,\n",
    "    'genesee':42.9838,\n",
    "    'greene':42.2957,\n",
    "    'hamilton':43.4764,\n",
    "    'herkimer':43.1631,\n",
    "    'jefferson':44.0607,\n",
    "    'lewis':43.8401,\n",
    "    'livingston':42.7577,\n",
    "    'madison':42.9806,\n",
    "    'monroe':43.2841,\n",
    "    'montgomery':42.9155,\n",
    "    'nassau':40.6546,\n",
    "    'niagara':43.3119,\n",
    "    'oneida':43.2372,\n",
    "    'onondaga':43.0268,\n",
    "    'ontario':42.8510,\n",
    "    'orange':41.3912,\n",
    "    'orleans':43.4089,\n",
    "    'oswego':43.4825,\n",
    "    'otsego':42.5780,\n",
    "    'putnam':41.4351,\n",
    "    'rensselaer':42.6737,\n",
    "    'rockland':41.1489,\n",
    "    'st. lawrence':44.4473,\n",
    "    'saratoga':43.0324,\n",
    "    'schenectady':42.8493,\n",
    "    'schoharie':42.6550,\n",
    "    'schuyler':42.3796,\n",
    "    'seneca':42.7652,\n",
    "    'steuben':42.3210,\n",
    "    'suffolk':40.9849,\n",
    "    'sullivan':41.6897,\n",
    "    'tioga':42.1256,\n",
    "    'tompkins':42.4576,\n",
    "    'ulster':41.8586,\n",
    "    'warren':43.6079,\n",
    "    'washington':43.2519,\n",
    "    'wayne':43.2020,\n",
    "    'westchester':41.1220,\n",
    "    'wyoming':42.6421,\n",
    "    'yates':42.6431\n",
    "}\n",
    "\n",
    "lon = {\n",
    "    'albany':73.7562,\n",
    "    'allegany':78.0195,\n",
    "    'broome':75.9180,\n",
    "    'cattaraugus':78.7476,\n",
    "    'cayuga':76.5488,\n",
    "    'chautauqua':79.5603,\n",
    "    'chemung':76.7798,\n",
    "    'chenango':75.6208,\n",
    "    'clinton':73.6006,\n",
    "    'columbia':73.5594,\n",
    "    'cortland':75.9928,\n",
    "    'delaware':74.8741,\n",
    "    'dutchess':73.7478,\n",
    "    'erie':78.8662,\n",
    "    'essex':73.9508,\n",
    "    'franklin':74.3388,\n",
    "    'fulton':74.4995,\n",
    "    'genesee':78.1564,\n",
    "    'greene':74.1240,\n",
    "    'hamilton':74.4057,\n",
    "    'herkimer':74.8741,\n",
    "    'jefferson':75.9928,\n",
    "    'lewis':75.4345,\n",
    "    'livingston':77.8367,\n",
    "    'madison':75.8069,\n",
    "    'monroe':77.7452,\n",
    "    'montgomery':74.4526,\n",
    "    'nassau':73.5594,\n",
    "    'niagara':78.7476,\n",
    "    'oneida':75.4345,\n",
    "    'onondaga':76.1784,\n",
    "    'ontario':77.2865,\n",
    "    'orange':74.3118,\n",
    "    'orleans':78.2020,\n",
    "    'oswego':76.1784,\n",
    "    'otsego':75.0611,\n",
    "    'putnam':73.7949,\n",
    "    'rensselaer':73.5594,\n",
    "    'rockland':73.9830,\n",
    "    'st. lawrence':74.9302,\n",
    "    'saratoga':73.9360,\n",
    "    'schenectady':73.9830,\n",
    "    'schoharie':74.4995,\n",
    "    'schuyler':76.8721,\n",
    "    'seneca':76.8721,\n",
    "    'steuben':77.3784,\n",
    "    'suffolk':72.6151,\n",
    "    'sullivan':74.7805,\n",
    "    'tioga':76.3637,\n",
    "    'tompkins':76.6488,\n",
    "    'ulster':74.3118,\n",
    "    'warren':73.7478,\n",
    "    'washington':73.3709,\n",
    "    'wayne':77.0104,\n",
    "    'westchester':73.7949,\n",
    "    'wyoming':78.2020,\n",
    "    'yates':77.1485\n",
    "    \n",
    "}"
   ]
  },
  {
   "cell_type": "code",
   "execution_count": null,
   "id": "bda6d12a",
   "metadata": {},
   "outputs": [],
   "source": [
    "merged['latitude'] = merged.County.map(lat)\n",
    "merged['longitude'] = merged.County.map(lon)"
   ]
  },
  {
   "cell_type": "code",
   "execution_count": null,
   "id": "c3c2ddef",
   "metadata": {},
   "outputs": [],
   "source": [
    "merged['state'] = \"New York\"\n",
    "merged['country'] = \"US\""
   ]
  },
  {
   "cell_type": "code",
   "execution_count": null,
   "id": "3493e17f",
   "metadata": {},
   "outputs": [],
   "source": [
    "merged['longitude']=merged['longitude']*-1"
   ]
  },
  {
   "cell_type": "code",
   "execution_count": null,
   "id": "bca0bee6",
   "metadata": {},
   "outputs": [],
   "source": [
    "regionmap = regionmap.iloc[:,:2]\n",
    "merged_new = pd.merge(merged,regionmap,on='County')"
   ]
  },
  {
   "cell_type": "code",
   "execution_count": null,
   "id": "e4262c31",
   "metadata": {},
   "outputs": [],
   "source": [
    "merged_new.groupby('Region').OverweightObeseRate.mean()"
   ]
  },
  {
   "cell_type": "code",
   "execution_count": null,
   "id": "06bc14cc",
   "metadata": {},
   "outputs": [],
   "source": [
    "merged_new.to_csv('merged_data_raw.csv',index=False)"
   ]
  },
  {
   "cell_type": "markdown",
   "id": "32fab5b4",
   "metadata": {},
   "source": [
    "## One Hot Encode"
   ]
  },
  {
   "cell_type": "code",
   "execution_count": null,
   "id": "84481941",
   "metadata": {},
   "outputs": [],
   "source": [
    "merged['Sex'] = merged.Sex.map({'FEMALE':0,'MALE':1})\n",
    "merged.Sex.dtypes"
   ]
  },
  {
   "cell_type": "code",
   "execution_count": null,
   "id": "ca535df7",
   "metadata": {},
   "outputs": [],
   "source": [
    "merged['Grade Level'] = merged['Grade Level'].map({'ELEMENTARY':0,'MIDDLE/HIGH':1})\n",
    "merged['Grade Level'].dtypes"
   ]
  },
  {
   "cell_type": "markdown",
   "id": "09bbd8c1",
   "metadata": {},
   "source": [
    "## Baseline model"
   ]
  },
  {
   "cell_type": "code",
   "execution_count": null,
   "id": "7df03a85",
   "metadata": {},
   "outputs": [],
   "source": [
    "X_train, X_test, y_train, y_test = train_test_split(\n",
    "    merged.drop(['County','Year','OverweightObeseRate','# Uninsured','# Uninsured.1','Homicide Rate'],axis=1), merged['OverweightObeseRate'], test_size=0.33, random_state=42)"
   ]
  },
  {
   "cell_type": "code",
   "execution_count": null,
   "id": "7ed02b01",
   "metadata": {},
   "outputs": [],
   "source": [
    "scaler = MinMaxScaler()\n",
    "scaler.fit(X_train)\n",
    "X_train = scaler.transform(X_train)\n",
    "X_test = scaler.transform(X_test)"
   ]
  },
  {
   "cell_type": "markdown",
   "id": "70debc21",
   "metadata": {},
   "source": [
    "### Decision tree"
   ]
  },
  {
   "cell_type": "code",
   "execution_count": null,
   "id": "04548a0d",
   "metadata": {},
   "outputs": [],
   "source": [
    "clf = DecisionTreeRegressor(random_state=0, max_depth=5)\n",
    "clf.fit(X_train,y_train)"
   ]
  },
  {
   "cell_type": "code",
   "execution_count": null,
   "id": "1bedbadc",
   "metadata": {},
   "outputs": [],
   "source": [
    "np.sqrt(mean_squared_error(clf.predict(X_train),y_train))"
   ]
  },
  {
   "cell_type": "code",
   "execution_count": null,
   "id": "1f033c3e",
   "metadata": {},
   "outputs": [],
   "source": [
    "mean_absolute_percentage_error(clf.predict(X_train),y_train)"
   ]
  },
  {
   "cell_type": "code",
   "execution_count": null,
   "id": "1c006415",
   "metadata": {},
   "outputs": [],
   "source": [
    "np.sqrt(mean_squared_error(clf.predict(X_test),y_test))"
   ]
  },
  {
   "cell_type": "code",
   "execution_count": null,
   "id": "55e94abf",
   "metadata": {},
   "outputs": [],
   "source": [
    "mean_absolute_percentage_error(clf.predict(X_test),y_test)"
   ]
  },
  {
   "cell_type": "markdown",
   "id": "051dc3e4",
   "metadata": {},
   "source": [
    "### Random Forest"
   ]
  },
  {
   "cell_type": "code",
   "execution_count": null,
   "id": "c85eae42",
   "metadata": {},
   "outputs": [],
   "source": [
    "clf = RandomForestRegressor(max_samples=7000,\n",
    "                            bootstrap=True,\n",
    "                            random_state=0, \n",
    "                            max_depth=7, \n",
    "                            n_estimators=500, \n",
    "                            max_features=3, \n",
    "                            min_samples_split=100)\n",
    "clf.fit(X_train,y_train)"
   ]
  },
  {
   "cell_type": "code",
   "execution_count": null,
   "id": "946014ca",
   "metadata": {},
   "outputs": [],
   "source": [
    "np.sqrt(mean_squared_error(clf.predict(X_train),y_train))"
   ]
  },
  {
   "cell_type": "code",
   "execution_count": null,
   "id": "83794d89",
   "metadata": {},
   "outputs": [],
   "source": [
    "mean_absolute_percentage_error(clf.predict(X_train),y_train)"
   ]
  },
  {
   "cell_type": "code",
   "execution_count": null,
   "id": "4d7f8cc1",
   "metadata": {},
   "outputs": [],
   "source": [
    "np.sqrt(mean_squared_error(clf.predict(X_test),y_test))"
   ]
  },
  {
   "cell_type": "code",
   "execution_count": null,
   "id": "aed42ff6",
   "metadata": {},
   "outputs": [],
   "source": [
    "mean_absolute_percentage_error(clf.predict(X_test),y_test)"
   ]
  },
  {
   "cell_type": "markdown",
   "id": "e2801e1a",
   "metadata": {},
   "source": [
    "### Extra trees"
   ]
  },
  {
   "cell_type": "code",
   "execution_count": null,
   "id": "f5a5918d",
   "metadata": {},
   "outputs": [],
   "source": [
    "clf = ExtraTreesRegressor(random_state=0, max_depth=7, n_estimators=200, max_features=5)\n",
    "clf.fit(X_train,y_train)"
   ]
  },
  {
   "cell_type": "code",
   "execution_count": null,
   "id": "5ecaf315",
   "metadata": {},
   "outputs": [],
   "source": [
    "np.sqrt(mean_squared_error(clf.predict(X_train),y_train))"
   ]
  },
  {
   "cell_type": "code",
   "execution_count": null,
   "id": "4581d8c0",
   "metadata": {},
   "outputs": [],
   "source": [
    "mean_absolute_percentage_error(clf.predict(X_train),y_train)"
   ]
  },
  {
   "cell_type": "code",
   "execution_count": null,
   "id": "2a68af17",
   "metadata": {},
   "outputs": [],
   "source": [
    "np.sqrt(mean_squared_error(clf.predict(X_test),y_test))"
   ]
  },
  {
   "cell_type": "code",
   "execution_count": null,
   "id": "a11d5bb8",
   "metadata": {},
   "outputs": [],
   "source": [
    "mean_absolute_percentage_error(clf.predict(X_test),y_test)"
   ]
  },
  {
   "cell_type": "markdown",
   "id": "092e2d2d",
   "metadata": {},
   "source": [
    "### Sid's fav model"
   ]
  },
  {
   "cell_type": "code",
   "execution_count": null,
   "id": "11c92b7b",
   "metadata": {},
   "outputs": [],
   "source": [
    "clf = xgboost.XGBRegressor(n_estimators=100, max_depth=4, eta=0.089, subsample=0.7, colsample_bytree=0.8)\n",
    "clf.fit(X_train,y_train)"
   ]
  },
  {
   "cell_type": "code",
   "execution_count": null,
   "id": "ba1a3f8f",
   "metadata": {},
   "outputs": [],
   "source": [
    "np.sqrt(mean_squared_error(clf.predict(X_train),y_train))"
   ]
  },
  {
   "cell_type": "code",
   "execution_count": null,
   "id": "ce19563e",
   "metadata": {},
   "outputs": [],
   "source": [
    "mean_absolute_percentage_error(clf.predict(X_train),y_train)"
   ]
  },
  {
   "cell_type": "code",
   "execution_count": null,
   "id": "da3934c7",
   "metadata": {},
   "outputs": [],
   "source": [
    "np.sqrt(mean_squared_error(clf.predict(X_test),y_test))"
   ]
  },
  {
   "cell_type": "code",
   "execution_count": null,
   "id": "4543d199",
   "metadata": {},
   "outputs": [],
   "source": [
    "mean_absolute_percentage_error(clf.predict(X_test),y_test)"
   ]
  },
  {
   "cell_type": "markdown",
   "id": "138541a7",
   "metadata": {},
   "source": [
    "### Elastic Net"
   ]
  },
  {
   "cell_type": "code",
   "execution_count": null,
   "id": "bb90994f",
   "metadata": {},
   "outputs": [],
   "source": [
    "clf = ElasticNet()\n",
    "clf.fit(X_train,y_train)"
   ]
  },
  {
   "cell_type": "code",
   "execution_count": null,
   "id": "3175af2f",
   "metadata": {},
   "outputs": [],
   "source": [
    "np.sqrt(mean_squared_error(clf.predict(X_train),y_train))"
   ]
  },
  {
   "cell_type": "code",
   "execution_count": null,
   "id": "dc44bdff",
   "metadata": {},
   "outputs": [],
   "source": [
    "mean_absolute_percentage_error(clf.predict(X_train),y_train)"
   ]
  },
  {
   "cell_type": "code",
   "execution_count": null,
   "id": "6ed0650a",
   "metadata": {},
   "outputs": [],
   "source": [
    "np.sqrt(mean_squared_error(clf.predict(X_test),y_test))"
   ]
  },
  {
   "cell_type": "code",
   "execution_count": null,
   "id": "4ff2b575",
   "metadata": {},
   "outputs": [],
   "source": [
    "mean_absolute_percentage_error(clf.predict(X_test),y_test)"
   ]
  },
  {
   "cell_type": "markdown",
   "id": "1339bda6",
   "metadata": {},
   "source": [
    "## Feature importance"
   ]
  },
  {
   "cell_type": "code",
   "execution_count": null,
   "id": "0a20ad5c",
   "metadata": {},
   "outputs": [],
   "source": [
    "x=merged.drop(['County','Year','OverweightObeseRate','# Uninsured','# Uninsured.1','Homicide Rate'],axis=1)\n",
    "y=merged['OverweightObeseRate']\n",
    "\n",
    "clf = RandomForestRegressor(max_samples=7000,\n",
    "                            bootstrap=True,\n",
    "                            random_state=0, \n",
    "                            max_depth=7, \n",
    "                            n_estimators=500, \n",
    "                            max_features=3, \n",
    "                            min_samples_split=100)\n",
    "clf.fit(x,y)"
   ]
  },
  {
   "cell_type": "code",
   "execution_count": null,
   "id": "d4e9bb61",
   "metadata": {},
   "outputs": [],
   "source": [
    "importances = clf.feature_importances_\n",
    "feature_names = x.columns\n",
    "sorted_ids = np.argsort(importances)\n",
    "importances = importances[sorted_ids]\n",
    "feature_names = feature_names[sorted_ids]\n",
    "\n",
    "std = np.std([tree.feature_importances_ for tree in clf.estimators_], axis=0)\n",
    "std = std[sorted_ids]"
   ]
  },
  {
   "cell_type": "code",
   "execution_count": null,
   "id": "efb5fad6",
   "metadata": {},
   "outputs": [],
   "source": [
    "forest_importances = pd.Series(importances, index=feature_names)\n",
    "\n",
    "fig, ax = plt.subplots(figsize=(15,8))\n",
    "forest_importances.plot.bar(yerr=std, ax=ax)\n",
    "ax.set_title(\"Feature importances using MDI\")\n",
    "ax.set_ylabel(\"Mean decrease in impurity\")\n",
    "fig.tight_layout()\n",
    "plt.xticks(fontsize=20)"
   ]
  },
  {
   "cell_type": "code",
   "execution_count": null,
   "id": "a4e4cd74",
   "metadata": {},
   "outputs": [],
   "source": [
    "clf = xgboost.XGBRegressor(n_estimators=100, max_depth=4, eta=0.089, subsample=0.7, colsample_bytree=0.8)\n",
    "clf.fit(x,y)"
   ]
  },
  {
   "cell_type": "code",
   "execution_count": null,
   "id": "5c514a10",
   "metadata": {},
   "outputs": [],
   "source": [
    "importances = clf.feature_importances_\n",
    "feature_names = x.columns\n",
    "sorted_ids = np.argsort(importances)\n",
    "importances = importances[sorted_ids]\n",
    "feature_names = feature_names[sorted_ids]"
   ]
  },
  {
   "cell_type": "code",
   "execution_count": null,
   "id": "a9cd4f03",
   "metadata": {},
   "outputs": [],
   "source": [
    "forest_importances = pd.Series(importances, index=feature_names)\n",
    "\n",
    "fig, ax = plt.subplots(figsize=(15,8))\n",
    "forest_importances.plot.bar(ax=ax)\n",
    "ax.set_title(\"Feature importances using MDI\")\n",
    "ax.set_ylabel(\"Mean decrease in impurity\")\n",
    "fig.tight_layout()"
   ]
  },
  {
   "cell_type": "code",
   "execution_count": null,
   "id": "04061e59",
   "metadata": {},
   "outputs": [],
   "source": [
    "merged.groupby('County').OverweightObeseRate.mean().sort_values(ascending=False)"
   ]
  },
  {
   "cell_type": "code",
   "execution_count": null,
   "id": "f33fcdfa",
   "metadata": {},
   "outputs": [],
   "source": [
    "merged['OverweightObeseRate'].corr(merged['FoodInsecurity'])"
   ]
  },
  {
   "cell_type": "code",
   "execution_count": null,
   "id": "660219ba",
   "metadata": {},
   "outputs": [],
   "source": [
    "merged['OverweightObeseRate'].corr(merged['Unemployment Rate'])"
   ]
  },
  {
   "cell_type": "code",
   "execution_count": null,
   "id": "081bd682",
   "metadata": {},
   "outputs": [],
   "source": []
  }
 ],
 "metadata": {
  "kernelspec": {
   "display_name": "Python 3 (ipykernel)",
   "language": "python",
   "name": "python3"
  },
  "language_info": {
   "codemirror_mode": {
    "name": "ipython",
    "version": 3
   },
   "file_extension": ".py",
   "mimetype": "text/x-python",
   "name": "python",
   "nbconvert_exporter": "python",
   "pygments_lexer": "ipython3",
   "version": "3.9.7"
  }
 },
 "nbformat": 4,
 "nbformat_minor": 5
}
