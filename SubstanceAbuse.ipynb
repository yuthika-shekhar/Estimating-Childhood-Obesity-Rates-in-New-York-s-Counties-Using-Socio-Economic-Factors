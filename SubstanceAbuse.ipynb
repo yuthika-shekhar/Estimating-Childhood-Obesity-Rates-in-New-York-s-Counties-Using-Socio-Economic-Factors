{
 "cells": [
  {
   "cell_type": "code",
   "execution_count": null,
   "id": "fc536bad",
   "metadata": {},
   "outputs": [],
   "source": [
    "import numpy as np\n",
    "import pandas as pd"
   ]
  },
  {
   "cell_type": "markdown",
   "id": "24257679",
   "metadata": {},
   "source": [
    "## Load data"
   ]
  },
  {
   "cell_type": "code",
   "execution_count": null,
   "id": "f482ccf6",
   "metadata": {},
   "outputs": [],
   "source": [
    "data = pd.read_csv('Chemical_Dependence_Treatment_Program_Admissions__Beginning_2007.csv')\n",
    "data.head()"
   ]
  },
  {
   "cell_type": "code",
   "execution_count": null,
   "id": "668a7fd4",
   "metadata": {},
   "outputs": [],
   "source": [
    "main = pd.read_csv('Student_Weight_Status_Category_Reporting_Results__Beginning_2010.csv')"
   ]
  },
  {
   "cell_type": "code",
   "execution_count": null,
   "id": "ee44fcb6",
   "metadata": {},
   "outputs": [],
   "source": [
    "main.shape"
   ]
  },
  {
   "cell_type": "code",
   "execution_count": null,
   "id": "406d6119",
   "metadata": {},
   "outputs": [],
   "source": [
    "main = main[(main['County']!='STATEWIDE (EXCLUDING NYC)') & \n",
    "            (main['Grade Level']!='DISTRICT TOTAL') & \n",
    "            (main['Sex']!='ALL') & \n",
    "            (~main['Grade Level'].isin(['194','55'])) & \n",
    "            (~main.County.isna())]\n",
    "main.head()"
   ]
  },
  {
   "cell_type": "code",
   "execution_count": null,
   "id": "48a805b8",
   "metadata": {},
   "outputs": [],
   "source": [
    "main.shape"
   ]
  },
  {
   "cell_type": "code",
   "execution_count": null,
   "id": "fc80a5ca",
   "metadata": {},
   "outputs": [],
   "source": [
    "main['Grade Level'].value_counts()"
   ]
  },
  {
   "cell_type": "code",
   "execution_count": null,
   "id": "5e7d1a30",
   "metadata": {},
   "outputs": [],
   "source": [
    "main.isna().sum()"
   ]
  },
  {
   "cell_type": "code",
   "execution_count": null,
   "id": "00a34474",
   "metadata": {},
   "outputs": [],
   "source": [
    "main['Year Reported '].value_counts()"
   ]
  },
  {
   "cell_type": "markdown",
   "id": "3e142aa7",
   "metadata": {},
   "source": [
    "## Clean"
   ]
  },
  {
   "cell_type": "code",
   "execution_count": null,
   "id": "ba17617c",
   "metadata": {},
   "outputs": [],
   "source": [
    "data.head()"
   ]
  },
  {
   "cell_type": "code",
   "execution_count": null,
   "id": "20740316",
   "metadata": {},
   "outputs": [],
   "source": [
    "data['County of Program Location'] = data['County of Program Location'].replace('Saint Lawrence','St. Lawrence')"
   ]
  },
  {
   "cell_type": "code",
   "execution_count": null,
   "id": "98587085",
   "metadata": {},
   "outputs": [],
   "source": [
    "data['County of Program Location'] = data['County of Program Location'].str.upper()"
   ]
  },
  {
   "cell_type": "code",
   "execution_count": null,
   "id": "0076d364",
   "metadata": {},
   "outputs": [],
   "source": [
    "main = main[~main['Year Reported '].isin(['2010-2012','2011-2013','2016-2018','2015-2017','2014-2016','2013-2015','2012-2014','2017-2019'])]"
   ]
  },
  {
   "cell_type": "code",
   "execution_count": null,
   "id": "dc641ddf",
   "metadata": {},
   "outputs": [],
   "source": [
    "main['Year Reported '] = main['Year Reported '].str.slice(0,4)"
   ]
  },
  {
   "cell_type": "code",
   "execution_count": null,
   "id": "91af7f1c",
   "metadata": {},
   "outputs": [],
   "source": [
    "main.to_csv('Clean_Main.csv',index=False)"
   ]
  },
  {
   "cell_type": "code",
   "execution_count": null,
   "id": "0ff53fc3",
   "metadata": {},
   "outputs": [],
   "source": []
  }
 ],
 "metadata": {
  "kernelspec": {
   "display_name": "Python 3 (ipykernel)",
   "language": "python",
   "name": "python3"
  },
  "language_info": {
   "codemirror_mode": {
    "name": "ipython",
    "version": 3
   },
   "file_extension": ".py",
   "mimetype": "text/x-python",
   "name": "python",
   "nbconvert_exporter": "python",
   "pygments_lexer": "ipython3",
   "version": "3.9.7"
  }
 },
 "nbformat": 4,
 "nbformat_minor": 5
}
